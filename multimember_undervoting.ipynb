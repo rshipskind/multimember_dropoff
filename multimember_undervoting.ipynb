{
 "cells": [
  {
   "cell_type": "code",
   "execution_count": 1,
   "metadata": {
    "collapsed": false
   },
   "outputs": [],
   "source": [
    "import numpy as np\n",
    "import pandas as pd\n",
    "import matplotlib.pyplot as plt\n",
    "from scipy import stats\n",
    "import seaborn\n",
    "%matplotlib inline"
   ]
  },
  {
   "cell_type": "code",
   "execution_count": 2,
   "metadata": {
    "collapsed": true
   },
   "outputs": [],
   "source": [
    "bullet_voting = pd.read_csv(\"16candidatesbydistrict.csv\")\n",
    "bullet_voting['% Blank'] = bullet_voting['Blank Votes']/bullet_voting['Total Votes']"
   ]
  },
  {
   "cell_type": "code",
   "execution_count": 3,
   "metadata": {
    "collapsed": true
   },
   "outputs": [],
   "source": [
    "normalized = bullet_voting[bullet_voting['Dem'] == bullet_voting['#Seats']]\n",
    "normalized = normalized[normalized['Rep'] == normalized['#Seats']]\n",
    "normalized = normalized[normalized['Prog'] == 0]\n",
    "normalized = normalized[normalized['Fusion'] == 0]\n",
    "normalized = normalized[normalized['Other/Ind'] == 0]\n",
    "multimember = normalized[normalized['#Seats'] == 2]\n",
    "single_member = normalized[normalized['#Seats'] == 1]"
   ]
  },
  {
   "cell_type": "code",
   "execution_count": 4,
   "metadata": {
    "collapsed": true
   },
   "outputs": [],
   "source": [
    "single_average = single_member['Blank Votes'].sum()/single_member['Total Votes'].sum()\n",
    "multi_average = multimember['Blank Votes'].sum()/multimember['Total Votes'].sum()"
   ]
  },
  {
   "cell_type": "code",
   "execution_count": 5,
   "metadata": {
    "collapsed": false
   },
   "outputs": [
    {
     "name": "stdout",
     "output_type": "stream",
     "text": [
      "R_Squared_normalized Races: 0.8876324405785293\n",
      "p_value_normalizedized Races: 2.4541268321601073e-14\n"
     ]
    }
   ],
   "source": [
    "uv_slope, uv_intercept, uv_r_value, p_value, std_err = stats.linregress(normalized['#Seats'], normalized['% Blank'])\n",
    "print('R_Squared_normalized Races: {}'.format(uv_r_value**2))\n",
    "print('p_value_normalizedized Races: {}'.format(p_value))"
   ]
  },
  {
   "cell_type": "code",
   "execution_count": 6,
   "metadata": {
    "collapsed": false
   },
   "outputs": [
    {
     "data": {
      "text/plain": [
       "<matplotlib.legend.Legend at 0x119db0ac8>"
      ]
     },
     "execution_count": 6,
     "metadata": {},
     "output_type": "execute_result"
    },
    {
     "data": {
      "image/png": "[encoded data removed]",
      "text/plain": [
       "<matplotlib.figure.Figure at 0x117552208>"
      ]
     },
     "metadata": {},
     "output_type": "display_data"
    }
   ],
   "source": [
    "plt.figure(figsize=(3, 3))\n",
    "plt.title('% Undervotes in Dem vs. Rep Single vs Multimember House Districts')\n",
    "plt.ylabel('% of Undervotes')\n",
    "plt.xlabel('# of Members')\n",
    "plt.ylim(0, .22)\n",
    "plt.xlim(.5, 2.5)\n",
    "plt.xticks((1, 2))\n",
    "plt.scatter(single_member['#Seats'], single_member['% Blank'], c='purple', label='n = {}'.format(len(single_member)))\n",
    "plt.scatter(multimember['#Seats'], multimember['% Blank'], c='orange', label='n = {}'.format(len(multimember)))\n",
    "plt.axhline(y=single_average, c='purple', alpha=.7)\n",
    "plt.axhline(y=multi_average, c='orange', alpha=.7)\n",
    "plt.legend(loc='upper left')"
   ]
  },
  {
   "cell_type": "code",
   "execution_count": 7,
   "metadata": {
    "collapsed": true
   },
   "outputs": [],
   "source": [
    "contested = bullet_voting[bullet_voting['Contested'] == 'Y']\n",
    "uncontested = bullet_voting[bullet_voting['Contested'] == 'N']"
   ]
  },
  {
   "cell_type": "code",
   "execution_count": 8,
   "metadata": {
    "collapsed": false
   },
   "outputs": [
    {
     "name": "stdout",
     "output_type": "stream",
     "text": [
      "Average % Blank Votes in Uncontested Race: 0.2591737717273541\n",
      "Average % Blank Votes in Contested Race: 0.1604904423296895\n",
      "Difference: 0.09868332939766461\n"
     ]
    }
   ],
   "source": [
    "contested_average = contested['Blank Votes'].sum()/contested['Total Votes'].sum()\n",
    "uncontested_average = uncontested['Blank Votes'].sum()/uncontested['Total Votes'].sum()\n",
    "print('Average % Blank Votes in Uncontested Race: {}'.format(uncontested_average))\n",
    "print('Average % Blank Votes in Contested Race: {}'.format(contested_average))\n",
    "print('Difference: {}'.format(uncontested_average - contested_average))"
   ]
  },
  {
   "cell_type": "code",
   "execution_count": 9,
   "metadata": {
    "collapsed": true
   },
   "outputs": [],
   "source": [
    "normalized2 = bullet_voting[bullet_voting['Contested'] == 'Y']\n",
    "multimember2 = normalized2[normalized2['#Seats'] == 2]\n",
    "single_member2 = normalized2[normalized2['#Seats'] == 1]\n",
    "single_average2 = single_member2['Blank Votes'].sum()/single_member2['Total Votes'].sum()\n",
    "multi_average2 = multimember2['Blank Votes'].sum()/multimember2['Total Votes'].sum()"
   ]
  },
  {
   "cell_type": "code",
   "execution_count": 10,
   "metadata": {
    "collapsed": false
   },
   "outputs": [
    {
     "name": "stdout",
     "output_type": "stream",
     "text": [
      "R_Squared_Contested Races: 0.7339147644219174\n",
      "p_value_Contested Races: 1.310444718379377e-18\n"
     ]
    }
   ],
   "source": [
    "uv2_slope, uv2_intercept, uv2_r_value, p2_value, std_err = stats.linregress(normalized2['#Seats'], normalized2['% Blank'])\n",
    "print('R_Squared_Contested Races: {}'.format(uv2_r_value**2))\n",
    "print('p_value_Contested Races: {}'.format(p2_value))"
   ]
  },
  {
   "cell_type": "code",
   "execution_count": 11,
   "metadata": {
    "collapsed": false
   },
   "outputs": [
    {
     "data": {
      "text/plain": [
       "<matplotlib.legend.Legend at 0x11a494710>"
      ]
     },
     "execution_count": 11,
     "metadata": {},
     "output_type": "execute_result"
    },
    {
     "data": {
      "image/png": "[encoded data removed]",
      "text/plain": [
       "<matplotlib.figure.Figure at 0x119dc1828>"
      ]
     },
     "metadata": {},
     "output_type": "display_data"
    }
   ],
   "source": [
    "plt.title('% Undervotes in Contested Single vs Multimember House Districts')\n",
    "plt.ylabel('% of Undervotes')\n",
    "plt.xlabel('# of Members')\n",
    "plt.ylim(0, .36)\n",
    "plt.xlim(.5, 2.5)\n",
    "plt.xticks((1, 2))\n",
    "plt.scatter(single_member2['#Seats'], single_member2['% Blank'], c='purple', label='n = {}'.format(len(single_member2)))\n",
    "plt.scatter(multimember2['#Seats'], multimember2['% Blank'], c='orange', label='n = {}'.format(len(multimember2)))\n",
    "plt.axhline(y=single_average2, c='purple', alpha=.7)\n",
    "plt.axhline(y=multi_average2, c='orange', alpha=.7)\n",
    "plt.legend(loc='upper left')"
   ]
  },
  {
   "cell_type": "code",
   "execution_count": null,
   "metadata": {
    "collapsed": true
   },
   "outputs": [],
   "source": []
  }
 ],
 "metadata": {
  "kernelspec": {
   "display_name": "Python 3",
   "language": "python",
   "name": "python3"
  },
  "language_info": {
   "codemirror_mode": {
    "name": "ipython",
    "version": 3
   },
   "file_extension": ".py",
   "mimetype": "text/x-python",
   "name": "python",
   "nbconvert_exporter": "python",
   "pygments_lexer": "ipython3",
   "version": "3.4.4"
  }
 },
 "nbformat": 4,
 "nbformat_minor": 0
}
